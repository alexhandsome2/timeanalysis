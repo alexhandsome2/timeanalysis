{
 "cells": [
  {
   "cell_type": "code",
   "execution_count": 4,
   "id": "58b2f3d6-7129-4fce-aadc-5c383a3d7236",
   "metadata": {},
   "outputs": [],
   "source": [
    "import pandas as pd\n",
    "from pathlib import Path"
   ]
  },
  {
   "cell_type": "markdown",
   "id": "2dc413b8-377b-462c-805c-8fc4b256c174",
   "metadata": {
    "jp-MarkdownHeadingCollapsed": true,
    "tags": []
   },
   "source": [
    "## Read Csv"
   ]
  },
  {
   "cell_type": "code",
   "execution_count": 3,
   "id": "4805d664-b8ae-401d-87ff-5f107d9a17f4",
   "metadata": {},
   "outputs": [],
   "source": [
    "filepath=\\\n",
    "Path('../../datasets/Ch2/movieboxoffice.csv')"
   ]
  },
  {
   "cell_type": "code",
   "execution_count": 4,
   "id": "1cd29a0f-d552-400d-80fe-4e245f61fe9d",
   "metadata": {},
   "outputs": [
    {
     "data": {
      "text/html": [
       "<div>\n",
       "<style scoped>\n",
       "    .dataframe tbody tr th:only-of-type {\n",
       "        vertical-align: middle;\n",
       "    }\n",
       "\n",
       "    .dataframe tbody tr th {\n",
       "        vertical-align: top;\n",
       "    }\n",
       "\n",
       "    .dataframe thead th {\n",
       "        text-align: right;\n",
       "    }\n",
       "</style>\n",
       "<table border=\"1\" class=\"dataframe\">\n",
       "  <thead>\n",
       "    <tr style=\"text-align: right;\">\n",
       "      <th></th>\n",
       "      <th>DOW</th>\n",
       "      <th>Daily</th>\n",
       "      <th>Forecast</th>\n",
       "      <th>Percent Diff</th>\n",
       "    </tr>\n",
       "    <tr>\n",
       "      <th>Date</th>\n",
       "      <th></th>\n",
       "      <th></th>\n",
       "      <th></th>\n",
       "      <th></th>\n",
       "    </tr>\n",
       "  </thead>\n",
       "  <tbody>\n",
       "    <tr>\n",
       "      <th>2021-04-26</th>\n",
       "      <td>Friday</td>\n",
       "      <td>$125,789.89</td>\n",
       "      <td>$235,036.46</td>\n",
       "      <td>-46.48%</td>\n",
       "    </tr>\n",
       "    <tr>\n",
       "      <th>2021-04-27</th>\n",
       "      <td>Saturday</td>\n",
       "      <td>$99,374.01</td>\n",
       "      <td>$197,622.55</td>\n",
       "      <td>-49.72%</td>\n",
       "    </tr>\n",
       "    <tr>\n",
       "      <th>2021-04-28</th>\n",
       "      <td>Sunday</td>\n",
       "      <td>$82,203.16</td>\n",
       "      <td>$116,991.26</td>\n",
       "      <td>-29.74%</td>\n",
       "    </tr>\n",
       "    <tr>\n",
       "      <th>2021-04-29</th>\n",
       "      <td>Monday</td>\n",
       "      <td>$33,530.26</td>\n",
       "      <td>$66,652.65</td>\n",
       "      <td>-49.69%</td>\n",
       "    </tr>\n",
       "    <tr>\n",
       "      <th>2021-04-30</th>\n",
       "      <td>Tuesday</td>\n",
       "      <td>$30,105.24</td>\n",
       "      <td>$34,828.19</td>\n",
       "      <td>-13.56%</td>\n",
       "    </tr>\n",
       "  </tbody>\n",
       "</table>\n",
       "</div>"
      ],
      "text/plain": [
       "                 DOW         Daily      Forecast Percent Diff\n",
       "Date                                                         \n",
       "2021-04-26    Friday  $125,789.89   $235,036.46       -46.48%\n",
       "2021-04-27  Saturday   $99,374.01   $197,622.55       -49.72%\n",
       "2021-04-28    Sunday   $82,203.16   $116,991.26       -29.74%\n",
       "2021-04-29    Monday   $33,530.26    $66,652.65       -49.69%\n",
       "2021-04-30   Tuesday   $30,105.24    $34,828.19       -13.56%"
      ]
     },
     "execution_count": 4,
     "metadata": {},
     "output_type": "execute_result"
    }
   ],
   "source": [
    "ts = pd.read_csv(filepath, header=0, parse_dates=['Date'],\n",
    "                 index_col =0,\n",
    "                 infer_datetime_format=True,\n",
    "                 usecols=['Date',\n",
    "                          'DOW',\n",
    "                         'Daily',\n",
    "                         'Forecast',\n",
    "                         'Percent Diff'])\n",
    "ts.head(5)"
   ]
  },
  {
   "cell_type": "code",
   "execution_count": 7,
   "id": "4ba47032-e226-4518-99d9-02ba535c1230",
   "metadata": {},
   "outputs": [
    {
     "name": "stdout",
     "output_type": "stream",
     "text": [
      "<class 'pandas.core.frame.DataFrame'>\n",
      "DatetimeIndex: 128 entries, 2021-04-26 to 2021-08-31\n",
      "Data columns (total 4 columns):\n",
      " #   Column        Non-Null Count  Dtype \n",
      "---  ------        --------------  ----- \n",
      " 0   DOW           128 non-null    object\n",
      " 1   Daily         128 non-null    object\n",
      " 2   Forecast      128 non-null    object\n",
      " 3   Percent Diff  128 non-null    object\n",
      "dtypes: object(4)\n",
      "memory usage: 5.0+ KB\n"
     ]
    }
   ],
   "source": [
    "ts.info()"
   ]
  },
  {
   "cell_type": "code",
   "execution_count": 12,
   "id": "4c3c0291-7de2-483a-b069-93cf56c74f33",
   "metadata": {},
   "outputs": [
    {
     "data": {
      "text/plain": [
       "5120"
      ]
     },
     "execution_count": 12,
     "metadata": {},
     "output_type": "execute_result"
    }
   ],
   "source": [
    "ts.memory_usage().sum()"
   ]
  },
  {
   "cell_type": "markdown",
   "id": "0472759e-d90a-437e-b625-8641199855a2",
   "metadata": {},
   "source": [
    "## Read excel"
   ]
  },
  {
   "cell_type": "code",
   "execution_count": 5,
   "id": "6d96867b-136e-495a-9a20-a7cdedc8dc84",
   "metadata": {},
   "outputs": [],
   "source": [
    "filepath=\\\n",
    "Path('../../datasets/Ch2/sales_trx_data.xlsx')"
   ]
  },
  {
   "cell_type": "code",
   "execution_count": 7,
   "id": "ab08faef-de79-4358-86d0-e3fc11607c11",
   "metadata": {},
   "outputs": [
    {
     "data": {
      "text/plain": [
       "['2017', '2018']"
      ]
     },
     "execution_count": 7,
     "metadata": {},
     "output_type": "execute_result"
    }
   ],
   "source": [
    "excelfile= pd.ExcelFile(filepath)\n",
    "excelfile.sheet_names"
   ]
  },
  {
   "cell_type": "code",
   "execution_count": 9,
   "id": "7abf981d-2d96-48b4-813e-bc3e8e70ccaf",
   "metadata": {},
   "outputs": [
    {
     "data": {
      "text/plain": [
       "dict_keys(['2017', '2018'])"
      ]
     },
     "execution_count": 9,
     "metadata": {},
     "output_type": "execute_result"
    }
   ],
   "source": [
    "ts=pd.read_excel(filepath,\n",
    "                 engine='openpyxl',\n",
    "                 index_col=1,\n",
    "                 sheet_name =None,\n",
    "                 parse_dates=True)\n",
    "\n",
    "ts.keys()"
   ]
  },
  {
   "cell_type": "code",
   "execution_count": 11,
   "id": "dd560a07-067c-4ed2-9158-f3b016a46ca4",
   "metadata": {},
   "outputs": [
    {
     "name": "stdout",
     "output_type": "stream",
     "text": [
      "<class 'pandas.core.frame.DataFrame'>\n",
      "DatetimeIndex: 36764 entries, 2017-01-01 to 2017-12-31\n",
      "Data columns (total 4 columns):\n",
      " #   Column              Non-Null Count  Dtype \n",
      "---  ------              --------------  ----- \n",
      " 0   Line_Item_ID        36764 non-null  int64 \n",
      " 1   Credit_Card_Number  36764 non-null  int64 \n",
      " 2   Quantity            36764 non-null  int64 \n",
      " 3   Menu_Item           36764 non-null  object\n",
      "dtypes: int64(3), object(1)\n",
      "memory usage: 1.4+ MB\n"
     ]
    }
   ],
   "source": [
    "ts['2017'].info()"
   ]
  },
  {
   "cell_type": "code",
   "execution_count": 12,
   "id": "963bd35d-5f1b-41c9-89a3-ea4848400b2b",
   "metadata": {},
   "outputs": [
    {
     "name": "stdout",
     "output_type": "stream",
     "text": [
      "<class 'pandas.core.frame.DataFrame'>\n",
      "DatetimeIndex: 74124 entries, 2017-01-01 to 2018-12-31\n",
      "Data columns (total 4 columns):\n",
      " #   Column              Non-Null Count  Dtype \n",
      "---  ------              --------------  ----- \n",
      " 0   Line_Item_ID        74124 non-null  int64 \n",
      " 1   Credit_Card_Number  74124 non-null  int64 \n",
      " 2   Quantity            74124 non-null  int64 \n",
      " 3   Menu_Item           74124 non-null  object\n",
      "dtypes: int64(3), object(1)\n",
      "memory usage: 2.8+ MB\n"
     ]
    }
   ],
   "source": [
    "ts_combined=pd.concat([ts['2017'],ts['2018']])\n",
    "ts_combined.info()"
   ]
  },
  {
   "cell_type": "code",
   "execution_count": 13,
   "id": "80e12938-b96d-4563-9f19-ed55e7d6aeea",
   "metadata": {},
   "outputs": [
    {
     "name": "stdout",
     "output_type": "stream",
     "text": [
      "<class 'pandas.core.frame.DataFrame'>\n",
      "DatetimeIndex: 74124 entries, 2017-01-01 to 2018-12-31\n",
      "Data columns (total 4 columns):\n",
      " #   Column              Non-Null Count  Dtype \n",
      "---  ------              --------------  ----- \n",
      " 0   Line_Item_ID        74124 non-null  int64 \n",
      " 1   Credit_Card_Number  74124 non-null  int64 \n",
      " 2   Quantity            74124 non-null  int64 \n",
      " 3   Menu_Item           74124 non-null  object\n",
      "dtypes: int64(3), object(1)\n",
      "memory usage: 2.8+ MB\n"
     ]
    }
   ],
   "source": [
    "ts_combined = pd.concat(ts).droplevel(level=0)\n",
    "ts_combined.info()"
   ]
  },
  {
   "cell_type": "code",
   "execution_count": 21,
   "id": "3dffef9b-b83b-4cef-93b9-e1507593d1d4",
   "metadata": {},
   "outputs": [
    {
     "data": {
      "text/html": [
       "<div>\n",
       "<style scoped>\n",
       "    .dataframe tbody tr th:only-of-type {\n",
       "        vertical-align: middle;\n",
       "    }\n",
       "\n",
       "    .dataframe tbody tr th {\n",
       "        vertical-align: top;\n",
       "    }\n",
       "\n",
       "    .dataframe thead th {\n",
       "        text-align: right;\n",
       "    }\n",
       "</style>\n",
       "<table border=\"1\" class=\"dataframe\">\n",
       "  <thead>\n",
       "    <tr style=\"text-align: right;\">\n",
       "      <th></th>\n",
       "      <th>Line_Item_ID</th>\n",
       "      <th>Credit_Card_Number</th>\n",
       "      <th>Quantity</th>\n",
       "      <th>Menu_Item</th>\n",
       "    </tr>\n",
       "    <tr>\n",
       "      <th>Date</th>\n",
       "      <th></th>\n",
       "      <th></th>\n",
       "      <th></th>\n",
       "      <th></th>\n",
       "    </tr>\n",
       "  </thead>\n",
       "  <tbody>\n",
       "    <tr>\n",
       "      <th>2017-01-01</th>\n",
       "      <td>1</td>\n",
       "      <td>7437926611570790</td>\n",
       "      <td>1</td>\n",
       "      <td>spicy miso ramen</td>\n",
       "    </tr>\n",
       "    <tr>\n",
       "      <th>2017-01-01</th>\n",
       "      <td>2</td>\n",
       "      <td>7437926611570790</td>\n",
       "      <td>1</td>\n",
       "      <td>spicy miso ramen</td>\n",
       "    </tr>\n",
       "    <tr>\n",
       "      <th>2017-01-01</th>\n",
       "      <td>3</td>\n",
       "      <td>8421920068932810</td>\n",
       "      <td>3</td>\n",
       "      <td>tori paitan ramen</td>\n",
       "    </tr>\n",
       "    <tr>\n",
       "      <th>2017-01-01</th>\n",
       "      <td>4</td>\n",
       "      <td>8421920068932810</td>\n",
       "      <td>3</td>\n",
       "      <td>tori paitan ramen</td>\n",
       "    </tr>\n",
       "    <tr>\n",
       "      <th>2017-01-01</th>\n",
       "      <td>5</td>\n",
       "      <td>4787310681569640</td>\n",
       "      <td>1</td>\n",
       "      <td>truffle butter ramen</td>\n",
       "    </tr>\n",
       "  </tbody>\n",
       "</table>\n",
       "</div>"
      ],
      "text/plain": [
       "            Line_Item_ID  Credit_Card_Number  Quantity             Menu_Item\n",
       "Date                                                                        \n",
       "2017-01-01             1    7437926611570790         1      spicy miso ramen\n",
       "2017-01-01             2    7437926611570790         1      spicy miso ramen\n",
       "2017-01-01             3    8421920068932810         3     tori paitan ramen\n",
       "2017-01-01             4    8421920068932810         3     tori paitan ramen\n",
       "2017-01-01             5    4787310681569640         1  truffle butter ramen"
      ]
     },
     "execution_count": 21,
     "metadata": {},
     "output_type": "execute_result"
    }
   ],
   "source": [
    "excelfile = pd.ExcelFile(filepath)\n",
    "ts=excelfile.parse(sheet_name='2017',\n",
    "                index_col=1,\n",
    "                parse_dates=True)\n",
    "ts.head()"
   ]
  },
  {
   "cell_type": "markdown",
   "id": "9972636f-c68c-4cce-bd2e-5b136c18a3b1",
   "metadata": {},
   "source": [
    "## Read url"
   ]
  },
  {
   "cell_type": "code",
   "execution_count": 22,
   "id": "e6ce262e-2f04-415e-9c04-48e1efd86a59",
   "metadata": {},
   "outputs": [
    {
     "data": {
      "text/html": [
       "<div>\n",
       "<style scoped>\n",
       "    .dataframe tbody tr th:only-of-type {\n",
       "        vertical-align: middle;\n",
       "    }\n",
       "\n",
       "    .dataframe tbody tr th {\n",
       "        vertical-align: top;\n",
       "    }\n",
       "\n",
       "    .dataframe thead th {\n",
       "        text-align: right;\n",
       "    }\n",
       "</style>\n",
       "<table border=\"1\" class=\"dataframe\">\n",
       "  <thead>\n",
       "    <tr style=\"text-align: right;\">\n",
       "      <th></th>\n",
       "      <th>CO(GT)</th>\n",
       "      <th>PT08.S1(CO)</th>\n",
       "      <th>NMHC(GT)</th>\n",
       "    </tr>\n",
       "    <tr>\n",
       "      <th>Date</th>\n",
       "      <th></th>\n",
       "      <th></th>\n",
       "      <th></th>\n",
       "    </tr>\n",
       "  </thead>\n",
       "  <tbody>\n",
       "    <tr>\n",
       "      <th>2004-03-10</th>\n",
       "      <td>2.6</td>\n",
       "      <td>1360.00</td>\n",
       "      <td>150</td>\n",
       "    </tr>\n",
       "    <tr>\n",
       "      <th>2004-03-10</th>\n",
       "      <td>2.0</td>\n",
       "      <td>1292.25</td>\n",
       "      <td>112</td>\n",
       "    </tr>\n",
       "    <tr>\n",
       "      <th>2004-03-10</th>\n",
       "      <td>2.2</td>\n",
       "      <td>1402.00</td>\n",
       "      <td>88</td>\n",
       "    </tr>\n",
       "  </tbody>\n",
       "</table>\n",
       "</div>"
      ],
      "text/plain": [
       "            CO(GT)  PT08.S1(CO)  NMHC(GT)\n",
       "Date                                     \n",
       "2004-03-10     2.6      1360.00       150\n",
       "2004-03-10     2.0      1292.25       112\n",
       "2004-03-10     2.2      1402.00        88"
      ]
     },
     "execution_count": 22,
     "metadata": {},
     "output_type": "execute_result"
    }
   ],
   "source": [
    "url='https://raw.githubusercontent.com/PacktPublishing/Time-Series-Analysis-with-Python-Cookbook/main/datasets/Ch2/AirQualityUCI.csv'\n",
    "\n",
    "date_parser = lambda x: pd.to_datetime(x, format=\"%d/%m/%Y\")\n",
    "df = pd.read_csv(url, delimiter=';',\n",
    "                 index_col='Date',\n",
    "                 date_parser=date_parser)\n",
    "\n",
    "df.iloc[:3,1:4]"
   ]
  },
  {
   "cell_type": "markdown",
   "id": "889be50c-c851-4da9-88e8-03bde0e611ba",
   "metadata": {},
   "source": [
    "## Read Data from HTML"
   ]
  },
  {
   "cell_type": "code",
   "execution_count": 25,
   "id": "538847a4-0096-4b00-a270-ec58fb30daa8",
   "metadata": {},
   "outputs": [
    {
     "name": "stdout",
     "output_type": "stream",
     "text": [
      "69\n"
     ]
    }
   ],
   "source": [
    "url = \"https://en.wikipedia.org/wiki/COVID-19_pandemic_by_country_and_territory\"\n",
    "results = pd.read_html(url)\n",
    "print(len(results))"
   ]
  },
  {
   "cell_type": "code",
   "execution_count": 28,
   "id": "3b8e6a2e-8851-435f-b9a8-4b9da8a82dad",
   "metadata": {},
   "outputs": [
    {
     "data": {
      "text/plain": [
       "Index(['Region[29]', 'Total cases', 'Total deaths', 'Cases per million',\n",
       "       'Deaths per million', 'Current weekly cases', 'Current weekly deaths',\n",
       "       'Population millions', 'Vaccinated %[30]'],\n",
       "      dtype='object')"
      ]
     },
     "execution_count": 28,
     "metadata": {},
     "output_type": "execute_result"
    }
   ],
   "source": [
    "df=results[15]\n",
    "df.columns"
   ]
  },
  {
   "cell_type": "code",
   "execution_count": 31,
   "id": "c8d9bfbc-0a88-446a-808b-c2333a8997e1",
   "metadata": {},
   "outputs": [
    {
     "data": {
      "text/html": [
       "<div>\n",
       "<style scoped>\n",
       "    .dataframe tbody tr th:only-of-type {\n",
       "        vertical-align: middle;\n",
       "    }\n",
       "\n",
       "    .dataframe tbody tr th {\n",
       "        vertical-align: top;\n",
       "    }\n",
       "\n",
       "    .dataframe thead th {\n",
       "        text-align: right;\n",
       "    }\n",
       "</style>\n",
       "<table border=\"1\" class=\"dataframe\">\n",
       "  <thead>\n",
       "    <tr style=\"text-align: right;\">\n",
       "      <th></th>\n",
       "      <th>Total cases</th>\n",
       "      <th>Total deaths</th>\n",
       "      <th>Cases per million</th>\n",
       "    </tr>\n",
       "  </thead>\n",
       "  <tbody>\n",
       "    <tr>\n",
       "      <th>0</th>\n",
       "      <td>179537758</td>\n",
       "      <td>1185108</td>\n",
       "      <td>401363</td>\n",
       "    </tr>\n",
       "    <tr>\n",
       "      <th>1</th>\n",
       "      <td>103783777</td>\n",
       "      <td>1133607</td>\n",
       "      <td>281404</td>\n",
       "    </tr>\n",
       "    <tr>\n",
       "      <th>2</th>\n",
       "      <td>57721948</td>\n",
       "      <td>498259</td>\n",
       "      <td>247054</td>\n",
       "    </tr>\n",
       "    <tr>\n",
       "      <th>3</th>\n",
       "      <td>65835789</td>\n",
       "      <td>1313061</td>\n",
       "      <td>153151</td>\n",
       "    </tr>\n",
       "    <tr>\n",
       "      <th>4</th>\n",
       "      <td>25646533</td>\n",
       "      <td>434988</td>\n",
       "      <td>108307</td>\n",
       "    </tr>\n",
       "  </tbody>\n",
       "</table>\n",
       "</div>"
      ],
      "text/plain": [
       "   Total cases  Total deaths  Cases per million\n",
       "0    179537758       1185108             401363\n",
       "1    103783777       1133607             281404\n",
       "2     57721948        498259             247054\n",
       "3     65835789       1313061             153151\n",
       "4     25646533        434988             108307"
      ]
     },
     "execution_count": 31,
     "metadata": {},
     "output_type": "execute_result"
    }
   ],
   "source": [
    "df[['Total cases', 'Total deaths', 'Cases per million']].head()"
   ]
  },
  {
   "cell_type": "markdown",
   "id": "ecef604d-0ac0-46ce-92db-8e9cdf2cd9bf",
   "metadata": {},
   "source": [
    "## Read sas dataset"
   ]
  },
  {
   "cell_type": "code",
   "execution_count": 33,
   "id": "60bf764f-9457-4c79-b0ac-bd72a9c0c3af",
   "metadata": {},
   "outputs": [
    {
     "data": {
      "text/plain": [
       "pandas.io.sas.sas7bdat.SAS7BDATReader"
      ]
     },
     "execution_count": 33,
     "metadata": {},
     "output_type": "execute_result"
    }
   ],
   "source": [
    "path = '../../datasets/Ch2/DCSKINPRODUCT.sas7bdat' ##can be large data\n",
    "\n",
    "df= pd.read_sas(path, chunksize=10000)\n",
    "type(df)"
   ]
  },
  {
   "cell_type": "code",
   "execution_count": 34,
   "id": "29869360-e174-443f-9e8a-256479d2e344",
   "metadata": {},
   "outputs": [
    {
     "data": {
      "text/plain": [
       "16"
      ]
     },
     "execution_count": 34,
     "metadata": {},
     "output_type": "execute_result"
    }
   ],
   "source": [
    "results=[]\n",
    "for chunk in df:\n",
    "    results.append(chunk)\n",
    "    \n",
    "len(results)"
   ]
  },
  {
   "cell_type": "code",
   "execution_count": 35,
   "id": "8ec5cff7-32ca-4a16-8401-c24839e55dda",
   "metadata": {},
   "outputs": [
    {
     "data": {
      "text/plain": [
       "(152130, 5)"
      ]
     },
     "execution_count": 35,
     "metadata": {},
     "output_type": "execute_result"
    }
   ],
   "source": [
    "df = pd.concat(results)\n",
    "df.shape"
   ]
  },
  {
   "cell_type": "code",
   "execution_count": 36,
   "id": "d697eb77-b81d-4660-9ccd-96d816eb80d3",
   "metadata": {},
   "outputs": [
    {
     "data": {
      "text/plain": [
       "16"
      ]
     },
     "execution_count": 36,
     "metadata": {},
     "output_type": "execute_result"
    }
   ],
   "source": [
    "df= pd.read_sas(path, chunksize=10000)\n",
    "results=[]\n",
    "for chunk in df:\n",
    "    results.append(chunk.groupby('DATE')['Revenue']\n",
    "     .agg(['sum', 'count']))\n",
    "    \n",
    "len(results)"
   ]
  },
  {
   "cell_type": "code",
   "execution_count": 38,
   "id": "05b7a7a9-ffcf-4a1d-a02b-d129a032b158",
   "metadata": {},
   "outputs": [
    {
     "data": {
      "text/plain": [
       "sum      923903.0\n",
       "count        91.0\n",
       "Name: 2013-02-10 00:00:00, dtype: float64"
      ]
     },
     "execution_count": 38,
     "metadata": {},
     "output_type": "execute_result"
    }
   ],
   "source": [
    "results[0].loc['2013-02-10']"
   ]
  },
  {
   "cell_type": "code",
   "execution_count": 41,
   "id": "341c5a4d-ce2a-4058-a306-dfb52f3a2653",
   "metadata": {},
   "outputs": [
    {
     "data": {
      "text/plain": [
       "pandas.core.frame.DataFrame"
      ]
     },
     "execution_count": 41,
     "metadata": {},
     "output_type": "execute_result"
    }
   ],
   "source": [
    "from functools import reduce ## reduce when data is not ordered. or sorted\n",
    "final = reduce(lambda x1, x2: x1.add(x2, fill_value=0),results)\n",
    "type(final)"
   ]
  },
  {
   "cell_type": "code",
   "execution_count": 42,
   "id": "62e78f40-12ff-4f32-876d-f9cee813e03b",
   "metadata": {},
   "outputs": [
    {
     "data": {
      "text/plain": [
       "sum      43104420.0\n",
       "count        1383.0\n",
       "Name: 2013-02-10 00:00:00, dtype: float64"
      ]
     },
     "execution_count": 42,
     "metadata": {},
     "output_type": "execute_result"
    }
   ],
   "source": [
    "final.loc['2013-02-10']"
   ]
  },
  {
   "cell_type": "code",
   "execution_count": 43,
   "id": "8c3ad453-15a0-4795-93c6-92e4a0597710",
   "metadata": {},
   "outputs": [
    {
     "data": {
      "text/plain": [
       "(110, 2)"
      ]
     },
     "execution_count": 43,
     "metadata": {},
     "output_type": "execute_result"
    }
   ],
   "source": [
    "final.shape"
   ]
  },
  {
   "cell_type": "code",
   "execution_count": null,
   "id": "70ef94bc-4a53-4572-9bd9-bd81349bcb0e",
   "metadata": {},
   "outputs": [],
   "source": []
  }
 ],
 "metadata": {
  "kernelspec": {
   "display_name": "Time Series",
   "language": "python",
   "name": "timesseries"
  },
  "language_info": {
   "codemirror_mode": {
    "name": "ipython",
    "version": 3
   },
   "file_extension": ".py",
   "mimetype": "text/x-python",
   "name": "python",
   "nbconvert_exporter": "python",
   "pygments_lexer": "ipython3",
   "version": "3.9.15"
  },
  "toc-autonumbering": true,
  "toc-showmarkdowntxt": true
 },
 "nbformat": 4,
 "nbformat_minor": 5
}
