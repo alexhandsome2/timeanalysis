{
 "cells": [
  {
   "cell_type": "markdown",
   "id": "0011a7b7-96a4-47a1-ba69-8924567797ea",
   "metadata": {},
   "source": [
    "## functions prep"
   ]
  },
  {
   "cell_type": "code",
   "execution_count": 2,
   "id": "86910af1-2976-4c30-b355-6a26384b5188",
   "metadata": {},
   "outputs": [],
   "source": [
    "import pandas as pd\n",
    "from pathlib import Path\n",
    "import matplotlib.pyplot as plt\n",
    "import numpy as np"
   ]
  },
  {
   "cell_type": "code",
   "execution_count": 3,
   "id": "bbb352ba-7592-42dc-bf09-99ee508d3bf4",
   "metadata": {},
   "outputs": [],
   "source": [
    "def read_dataset(folder, file, date_col=None):\n",
    "    '''\n",
    "    folder: is a Path object\n",
    "    file: the CSV filename\n",
    "    date_col: specify a date_col to use for index_col\n",
    "    returns: a pandas DataFrame with a DatetimeIndex\n",
    "    '''\n",
    "    df = pd.read_csv(folder/file, \n",
    "                     index_col= date_col, \n",
    "                     parse_dates=[date_col])\n",
    "    return df"
   ]
  },
  {
   "cell_type": "code",
   "execution_count": 49,
   "id": "8c62bb1e-72c4-4adb-8926-90d5cc2e09d8",
   "metadata": {},
   "outputs": [],
   "source": [
    "def plot_dfs(df1,df2,col,title=None,xlabel=None,ylabel=None):\n",
    "    '''\n",
    "    df1: original dataframe without missing data\n",
    "    df2: dataframe with missing data\n",
    "    col: column name that contains missing data\n",
    "    '''\n",
    "    df_missing = df2.rename(columns={col: 'missing'})\n",
    "    columns=df_missing.loc[:,'missing':].columns.tolist()\n",
    "    subplots_size = len(columns)\n",
    "    # subplots_size = df2.shape[1]\n",
    "    fig, ax = plt.subplots(subplots_size+1, 1, sharex=True)\n",
    "    plt.subplots_adjust(hspace=0.25)\n",
    "    fig.suptitle = title \n",
    "    \n",
    "    df1[col].plot(ax=ax[0], figsize=(10, 16))\n",
    "    ax[0].set_title('Original Dataset')\n",
    "    ax[0].set_xlabel(xlabel)\n",
    "    ax[0].set_ylabel(ylabel)    \n",
    "    \n",
    "    \n",
    "    for i, colname in enumerate(columns):\n",
    "        df_missing[colname].plot(ax=ax[i+1])\n",
    "        ax[i+1].set_title(colname.upper())\n",
    "    plt.show()"
   ]
  },
  {
   "cell_type": "code",
   "execution_count": 11,
   "id": "559497c9-595a-4845-bc1f-9b4bccd439f3",
   "metadata": {},
   "outputs": [],
   "source": [
    "def rmse_score(df1, df2, col=None):\n",
    "    '''\n",
    "    df1: original dataframe without missing data\n",
    "    df2: dataframe with missing data\n",
    "    col: column name that contains missing data\n",
    "    returns: a list of scores\n",
    "    '''\n",
    "    df_missing = df2.rename(columns={col: 'missing'})\n",
    "    columns=df_missing.loc[:,'missing':].columns.tolist()\n",
    "    scores=[]\n",
    "    for comp_col in columns[1:]:\n",
    "        rmse= np.sqrt(np.mean((df1[col]-df_missing[comp_col])**2))\n",
    "        scores.append(rmse)\n",
    "        print(f'RMSE for {comp_col}:{rmse}')\n",
    "    return scores"
   ]
  },
  {
   "cell_type": "markdown",
   "id": "47ee0c38-cfeb-4dc5-86ee-f000c44fc67c",
   "metadata": {},
   "source": [
    "## performing data quality checks"
   ]
  },
  {
   "cell_type": "code",
   "execution_count": 31,
   "id": "2f4ffc74-23ba-4984-8174-c25a9026d557",
   "metadata": {},
   "outputs": [
    {
     "data": {
      "text/html": [
       "<div>\n",
       "<style scoped>\n",
       "    .dataframe tbody tr th:only-of-type {\n",
       "        vertical-align: middle;\n",
       "    }\n",
       "\n",
       "    .dataframe tbody tr th {\n",
       "        vertical-align: top;\n",
       "    }\n",
       "\n",
       "    .dataframe thead th {\n",
       "        text-align: right;\n",
       "    }\n",
       "</style>\n",
       "<table border=\"1\" class=\"dataframe\">\n",
       "  <thead>\n",
       "    <tr style=\"text-align: right;\">\n",
       "      <th></th>\n",
       "      <th>price</th>\n",
       "      <th>location</th>\n",
       "      <th>clicks</th>\n",
       "    </tr>\n",
       "    <tr>\n",
       "      <th>date</th>\n",
       "      <th></th>\n",
       "      <th></th>\n",
       "      <th></th>\n",
       "    </tr>\n",
       "  </thead>\n",
       "  <tbody>\n",
       "    <tr>\n",
       "      <th>2008-04-01</th>\n",
       "      <td>43.155647</td>\n",
       "      <td>2.0</td>\n",
       "      <td>18784</td>\n",
       "    </tr>\n",
       "    <tr>\n",
       "      <th>2008-04-02</th>\n",
       "      <td>43.079056</td>\n",
       "      <td>1.0</td>\n",
       "      <td>24738</td>\n",
       "    </tr>\n",
       "    <tr>\n",
       "      <th>NaT</th>\n",
       "      <td>43.842609</td>\n",
       "      <td>NaN</td>\n",
       "      <td>15209</td>\n",
       "    </tr>\n",
       "    <tr>\n",
       "      <th>NaT</th>\n",
       "      <td>NaN</td>\n",
       "      <td>1.0</td>\n",
       "      <td>14018</td>\n",
       "    </tr>\n",
       "    <tr>\n",
       "      <th>NaT</th>\n",
       "      <td>43.941176</td>\n",
       "      <td>1.0</td>\n",
       "      <td>11974</td>\n",
       "    </tr>\n",
       "  </tbody>\n",
       "</table>\n",
       "</div>"
      ],
      "text/plain": [
       "                price  location clicks\n",
       "date                                  \n",
       "2008-04-01  43.155647       2.0  18784\n",
       "2008-04-02  43.079056       1.0  24738\n",
       "NaT         43.842609       NaN  15209\n",
       "NaT               NaN       1.0  14018\n",
       "NaT         43.941176       1.0  11974"
      ]
     },
     "execution_count": 31,
     "metadata": {},
     "output_type": "execute_result"
    }
   ],
   "source": [
    "co2 = Path('../../datasets/Ch7/co2_missing.csv')\n",
    "ecom = Path('../../datasets/Ch7/clicks_missing_multiple.csv')\n",
    "\n",
    "co2_df= pd.read_csv(co2, index_col='year',parse_dates=True)\n",
    "\n",
    "ecom_df=pd.read_csv(ecom, index_col='date',parse_dates=True)\n",
    "ecom_df.head()"
   ]
  },
  {
   "cell_type": "code",
   "execution_count": 32,
   "id": "6e0cffb9-f434-40d1-9e47-ffdb842bafa2",
   "metadata": {},
   "outputs": [
    {
     "data": {
      "text/plain": [
       "co2    25\n",
       "dtype: int64"
      ]
     },
     "execution_count": 32,
     "metadata": {},
     "output_type": "execute_result"
    }
   ],
   "source": [
    "co2_df.isna().sum()"
   ]
  },
  {
   "cell_type": "code",
   "execution_count": 33,
   "id": "dc91d439-ae97-484a-802a-d86d39d42a9c",
   "metadata": {},
   "outputs": [
    {
     "data": {
      "text/plain": [
       "price        1\n",
       "location     1\n",
       "clicks      14\n",
       "dtype: int64"
      ]
     },
     "execution_count": 33,
     "metadata": {},
     "output_type": "execute_result"
    }
   ],
   "source": [
    "ecom_df.isnull().sum()"
   ]
  },
  {
   "cell_type": "code",
   "execution_count": 34,
   "id": "5b575aca-022a-4bbd-b983-6ac462f0febb",
   "metadata": {},
   "outputs": [
    {
     "data": {
      "text/plain": [
       "16"
      ]
     },
     "execution_count": 34,
     "metadata": {},
     "output_type": "execute_result"
    }
   ],
   "source": [
    "ecom_df.isnull().sum().sum()"
   ]
  },
  {
   "cell_type": "code",
   "execution_count": 35,
   "id": "40dfb2d5-dc6a-4d94-8a05-f421de70abea",
   "metadata": {},
   "outputs": [
    {
     "data": {
      "text/html": [
       "<div>\n",
       "<style scoped>\n",
       "    .dataframe tbody tr th:only-of-type {\n",
       "        vertical-align: middle;\n",
       "    }\n",
       "\n",
       "    .dataframe tbody tr th {\n",
       "        vertical-align: top;\n",
       "    }\n",
       "\n",
       "    .dataframe thead th {\n",
       "        text-align: right;\n",
       "    }\n",
       "</style>\n",
       "<table border=\"1\" class=\"dataframe\">\n",
       "  <thead>\n",
       "    <tr style=\"text-align: right;\">\n",
       "      <th></th>\n",
       "      <th>co2</th>\n",
       "    </tr>\n",
       "    <tr>\n",
       "      <th>year</th>\n",
       "      <th></th>\n",
       "    </tr>\n",
       "  </thead>\n",
       "  <tbody>\n",
       "    <tr>\n",
       "      <th>1985-01-01</th>\n",
       "      <td>NaN</td>\n",
       "    </tr>\n",
       "    <tr>\n",
       "      <th>1986-01-01</th>\n",
       "      <td>NaN</td>\n",
       "    </tr>\n",
       "    <tr>\n",
       "      <th>1987-01-01</th>\n",
       "      <td>NaN</td>\n",
       "    </tr>\n",
       "    <tr>\n",
       "      <th>1988-01-01</th>\n",
       "      <td>4.2953</td>\n",
       "    </tr>\n",
       "    <tr>\n",
       "      <th>1989-01-01</th>\n",
       "      <td>4.2782</td>\n",
       "    </tr>\n",
       "  </tbody>\n",
       "</table>\n",
       "</div>"
      ],
      "text/plain": [
       "               co2\n",
       "year              \n",
       "1985-01-01     NaN\n",
       "1986-01-01     NaN\n",
       "1987-01-01     NaN\n",
       "1988-01-01  4.2953\n",
       "1989-01-01  4.2782"
      ]
     },
     "execution_count": 35,
     "metadata": {},
     "output_type": "execute_result"
    }
   ],
   "source": [
    "co2_df[190:195]"
   ]
  },
  {
   "cell_type": "code",
   "execution_count": 36,
   "id": "0af0bb8b-8be1-46e6-9b43-67af199515d9",
   "metadata": {},
   "outputs": [
    {
     "data": {
      "text/plain": [
       "True"
      ]
     },
     "execution_count": 36,
     "metadata": {},
     "output_type": "execute_result"
    }
   ],
   "source": [
    "co2_df.isnull().values.any() #check any missing"
   ]
  },
  {
   "cell_type": "code",
   "execution_count": 37,
   "id": "6b0f1ba4-c1fb-4f40-b639-0795a27cde24",
   "metadata": {},
   "outputs": [
    {
     "name": "stdout",
     "output_type": "stream",
     "text": [
      "<class 'pandas.core.frame.DataFrame'>\n",
      "DatetimeIndex: 226 entries, 1750-01-01 to 2020-01-01\n",
      "Data columns (total 1 columns):\n",
      " #   Column  Non-Null Count  Dtype  \n",
      "---  ------  --------------  -----  \n",
      " 0   co2     201 non-null    float64\n",
      "dtypes: float64(1)\n",
      "memory usage: 3.5 KB\n"
     ]
    }
   ],
   "source": [
    "co2_df.info()"
   ]
  },
  {
   "cell_type": "code",
   "execution_count": 38,
   "id": "25abbf80-e560-4caf-9881-047bf99ec979",
   "metadata": {},
   "outputs": [
    {
     "name": "stdout",
     "output_type": "stream",
     "text": [
      "<class 'pandas.core.frame.DataFrame'>\n",
      "DatetimeIndex: 135 entries, 2008-04-01 to 2008-08-13\n",
      "Data columns (total 3 columns):\n",
      " #   Column    Non-Null Count  Dtype  \n",
      "---  ------    --------------  -----  \n",
      " 0   price     134 non-null    float64\n",
      " 1   location  134 non-null    float64\n",
      " 2   clicks    121 non-null    object \n",
      "dtypes: float64(2), object(1)\n",
      "memory usage: 4.2+ KB\n"
     ]
    }
   ],
   "source": [
    "ecom_df.info()"
   ]
  },
  {
   "cell_type": "code",
   "execution_count": 39,
   "id": "98fdb045-c2b4-48a7-84d8-d6c73f3e49bb",
   "metadata": {},
   "outputs": [
    {
     "data": {
      "text/html": [
       "<div>\n",
       "<style scoped>\n",
       "    .dataframe tbody tr th:only-of-type {\n",
       "        vertical-align: middle;\n",
       "    }\n",
       "\n",
       "    .dataframe tbody tr th {\n",
       "        vertical-align: top;\n",
       "    }\n",
       "\n",
       "    .dataframe thead th {\n",
       "        text-align: right;\n",
       "    }\n",
       "</style>\n",
       "<table border=\"1\" class=\"dataframe\">\n",
       "  <thead>\n",
       "    <tr style=\"text-align: right;\">\n",
       "      <th></th>\n",
       "      <th>co2</th>\n",
       "    </tr>\n",
       "  </thead>\n",
       "  <tbody>\n",
       "    <tr>\n",
       "      <th>count</th>\n",
       "      <td>201.000000</td>\n",
       "    </tr>\n",
       "    <tr>\n",
       "      <th>mean</th>\n",
       "      <td>1.590015</td>\n",
       "    </tr>\n",
       "    <tr>\n",
       "      <th>std</th>\n",
       "      <td>1.644182</td>\n",
       "    </tr>\n",
       "    <tr>\n",
       "      <th>min</th>\n",
       "      <td>0.000000</td>\n",
       "    </tr>\n",
       "    <tr>\n",
       "      <th>25%</th>\n",
       "      <td>0.076400</td>\n",
       "    </tr>\n",
       "    <tr>\n",
       "      <th>50%</th>\n",
       "      <td>0.935100</td>\n",
       "    </tr>\n",
       "    <tr>\n",
       "      <th>75%</th>\n",
       "      <td>2.807600</td>\n",
       "    </tr>\n",
       "    <tr>\n",
       "      <th>max</th>\n",
       "      <td>4.907900</td>\n",
       "    </tr>\n",
       "  </tbody>\n",
       "</table>\n",
       "</div>"
      ],
      "text/plain": [
       "              co2\n",
       "count  201.000000\n",
       "mean     1.590015\n",
       "std      1.644182\n",
       "min      0.000000\n",
       "25%      0.076400\n",
       "50%      0.935100\n",
       "75%      2.807600\n",
       "max      4.907900"
      ]
     },
     "execution_count": 39,
     "metadata": {},
     "output_type": "execute_result"
    }
   ],
   "source": [
    "co2_df.describe(include='all',datetime_is_numeric=True)"
   ]
  },
  {
   "cell_type": "code",
   "execution_count": 40,
   "id": "404784b8-d370-4fea-96da-81a2a2ee5c98",
   "metadata": {},
   "outputs": [
    {
     "data": {
      "text/html": [
       "<div>\n",
       "<style scoped>\n",
       "    .dataframe tbody tr th:only-of-type {\n",
       "        vertical-align: middle;\n",
       "    }\n",
       "\n",
       "    .dataframe tbody tr th {\n",
       "        vertical-align: top;\n",
       "    }\n",
       "\n",
       "    .dataframe thead th {\n",
       "        text-align: right;\n",
       "    }\n",
       "</style>\n",
       "<table border=\"1\" class=\"dataframe\">\n",
       "  <thead>\n",
       "    <tr style=\"text-align: right;\">\n",
       "      <th></th>\n",
       "      <th>price</th>\n",
       "      <th>location</th>\n",
       "      <th>clicks</th>\n",
       "    </tr>\n",
       "  </thead>\n",
       "  <tbody>\n",
       "    <tr>\n",
       "      <th>count</th>\n",
       "      <td>134.000000</td>\n",
       "      <td>134.000000</td>\n",
       "      <td>121</td>\n",
       "    </tr>\n",
       "    <tr>\n",
       "      <th>unique</th>\n",
       "      <td>NaN</td>\n",
       "      <td>NaN</td>\n",
       "      <td>119</td>\n",
       "    </tr>\n",
       "    <tr>\n",
       "      <th>top</th>\n",
       "      <td>NaN</td>\n",
       "      <td>NaN</td>\n",
       "      <td>?</td>\n",
       "    </tr>\n",
       "    <tr>\n",
       "      <th>freq</th>\n",
       "      <td>NaN</td>\n",
       "      <td>NaN</td>\n",
       "      <td>2</td>\n",
       "    </tr>\n",
       "    <tr>\n",
       "      <th>mean</th>\n",
       "      <td>43.480221</td>\n",
       "      <td>1.694030</td>\n",
       "      <td>NaN</td>\n",
       "    </tr>\n",
       "    <tr>\n",
       "      <th>std</th>\n",
       "      <td>0.610578</td>\n",
       "      <td>1.118724</td>\n",
       "      <td>NaN</td>\n",
       "    </tr>\n",
       "    <tr>\n",
       "      <th>min</th>\n",
       "      <td>42.207018</td>\n",
       "      <td>1.000000</td>\n",
       "      <td>NaN</td>\n",
       "    </tr>\n",
       "    <tr>\n",
       "      <th>25%</th>\n",
       "      <td>43.038050</td>\n",
       "      <td>1.000000</td>\n",
       "      <td>NaN</td>\n",
       "    </tr>\n",
       "    <tr>\n",
       "      <th>50%</th>\n",
       "      <td>43.498842</td>\n",
       "      <td>1.000000</td>\n",
       "      <td>NaN</td>\n",
       "    </tr>\n",
       "    <tr>\n",
       "      <th>75%</th>\n",
       "      <td>43.889935</td>\n",
       "      <td>2.000000</td>\n",
       "      <td>NaN</td>\n",
       "    </tr>\n",
       "    <tr>\n",
       "      <th>max</th>\n",
       "      <td>45.801613</td>\n",
       "      <td>5.000000</td>\n",
       "      <td>NaN</td>\n",
       "    </tr>\n",
       "  </tbody>\n",
       "</table>\n",
       "</div>"
      ],
      "text/plain": [
       "             price    location clicks\n",
       "count   134.000000  134.000000    121\n",
       "unique         NaN         NaN    119\n",
       "top            NaN         NaN      ?\n",
       "freq           NaN         NaN      2\n",
       "mean     43.480221    1.694030    NaN\n",
       "std       0.610578    1.118724    NaN\n",
       "min      42.207018    1.000000    NaN\n",
       "25%      43.038050    1.000000    NaN\n",
       "50%      43.498842    1.000000    NaN\n",
       "75%      43.889935    2.000000    NaN\n",
       "max      45.801613    5.000000    NaN"
      ]
     },
     "execution_count": 40,
     "metadata": {},
     "output_type": "execute_result"
    }
   ],
   "source": [
    "ecom_df.describe(include='all',datetime_is_numeric=True)"
   ]
  },
  {
   "cell_type": "code",
   "execution_count": 42,
   "id": "2f0f2452-85bd-448f-a005-14d03b638083",
   "metadata": {},
   "outputs": [],
   "source": [
    "co2_df.replace(0,np.NaN,inplace=True)\n",
    "ecom_df.replace('?', np.NaN, inplace=True)\n",
    "ecom_df['clicks']=ecom_df['clicks'].astype('float')"
   ]
  },
  {
   "cell_type": "code",
   "execution_count": 43,
   "id": "e9a728c4-3297-40e8-bbb4-a270d11b824e",
   "metadata": {},
   "outputs": [
    {
     "data": {
      "text/plain": [
       "co2    35\n",
       "dtype: int64"
      ]
     },
     "execution_count": 43,
     "metadata": {},
     "output_type": "execute_result"
    }
   ],
   "source": [
    "co2_df.isnull().sum()"
   ]
  },
  {
   "cell_type": "code",
   "execution_count": 44,
   "id": "d7fec2c3-d840-44f9-8932-ee1a2cf24160",
   "metadata": {},
   "outputs": [
    {
     "data": {
      "text/plain": [
       "price        1\n",
       "location     1\n",
       "clicks      16\n",
       "dtype: int64"
      ]
     },
     "execution_count": 44,
     "metadata": {},
     "output_type": "execute_result"
    }
   ],
   "source": [
    "ecom_df.isnull().sum()"
   ]
  },
  {
   "cell_type": "markdown",
   "id": "f0de92ef-f4e4-4e29-9c0d-b9875131f035",
   "metadata": {},
   "source": [
    "## Uninvariate "
   ]
  },
  {
   "cell_type": "code",
   "execution_count": 47,
   "id": "925c3221-9b47-4bb6-a1af-5c775acce0bc",
   "metadata": {},
   "outputs": [],
   "source": [
    "folder = Path('../../datasets/Ch7/')\n",
    "co2_original = pd.read_csv(folder / 'co2_original.csv')\n",
    "co2_missing = pd.read_csv(folder / 'co2_missing_only.csv')\n",
    "clicks_original = pd.read_csv(folder / 'clicks_original.csv')\n",
    "clicks_missing = pd.read_csv(folder / 'clicks_missing.csv')"
   ]
  },
  {
   "cell_type": "code",
   "execution_count": 50,
   "id": "6aad8841-cd9a-44f4-a1d4-437dfd3b0713",
   "metadata": {},
   "outputs": [
    {
     "data": {
      "image/png": "[encoded data removed]",
      "text/plain": [
       "<Figure size 1000x1600 with 2 Axes>"
      ]
     },
     "metadata": {},
     "output_type": "display_data"
    }
   ],
   "source": [
    "plot_dfs(co2_original,\n",
    "         co2_missing,\n",
    "         'co2',\n",
    "         title=\"Annual CO2 Emission per Capita\",\n",
    "         xlabel=\"Years\",\n",
    "         ylabel=\"x100 million tons\")"
   ]
  },
  {
   "cell_type": "code",
   "execution_count": null,
   "id": "42f28618-fedc-45cb-a75b-d4aacd824c2d",
   "metadata": {},
   "outputs": [],
   "source": []
  }
 ],
 "metadata": {
  "kernelspec": {
   "display_name": "Time Series",
   "language": "python",
   "name": "timesseries"
  },
  "language_info": {
   "codemirror_mode": {
    "name": "ipython",
    "version": 3
   },
   "file_extension": ".py",
   "mimetype": "text/x-python",
   "name": "python",
   "nbconvert_exporter": "python",
   "pygments_lexer": "ipython3",
   "version": "3.9.15"
  }
 },
 "nbformat": 4,
 "nbformat_minor": 5
}
