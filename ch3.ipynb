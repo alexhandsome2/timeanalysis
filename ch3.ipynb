{
 "cells": [
  {
   "cell_type": "markdown",
   "id": "32de7cdb-2dd0-4445-8893-dff5e3bdedd2",
   "metadata": {},
   "source": [
    "## Read from SQL\n",
    "PostgreSQL database"
   ]
  },
  {
   "cell_type": "code",
   "execution_count": 1,
   "id": "a18e5cce-5829-4bd5-b1fb-8259bbdc92e1",
   "metadata": {},
   "outputs": [],
   "source": [
    "import psycopg2\n",
    "import pandas as pd\n",
    "params = {\n",
    "    \"host\": \"127.0.0.1\",\n",
    "    \"database\": \"postgres\",\n",
    "    \"user\": \"postgres\",\n",
    "    \"password\": \"password\"\n",
    "}"
   ]
  },
  {
   "cell_type": "code",
   "execution_count": null,
   "id": "1ca12104-da8c-4b0c-9ec2-85587c84630d",
   "metadata": {},
   "outputs": [],
   "source": [
    "conn = psycopg2.connect(**params)\n",
    "cursor = conn.cursor()"
   ]
  },
  {
   "cell_type": "code",
   "execution_count": null,
   "id": "4814ac34-15b0-4ee0-8b1f-f4f3ae0943fe",
   "metadata": {},
   "outputs": [],
   "source": [
    "cursor.execute(\"\"\"\n",
    "SELECT date, last, volume\n",
    "FROM yen_tbl\n",
    "ORDER BY date;\n",
    "\"\"\")\n",
    "cursor.rowcount"
   ]
  },
  {
   "cell_type": "code",
   "execution_count": null,
   "id": "ef34abb8-ff9a-46ad-aab0-e59dd3a5ad20",
   "metadata": {},
   "outputs": [],
   "source": [
    "cursor.description"
   ]
  },
  {
   "cell_type": "code",
   "execution_count": null,
   "id": "aa48a725-884b-4a17-b835-a31fe64712cc",
   "metadata": {},
   "outputs": [],
   "source": [
    "columns = [col[0] for col in cursor.description]\n",
    "columns"
   ]
  },
  {
   "cell_type": "code",
   "execution_count": null,
   "id": "1ca3fe51-dec6-48f4-b076-0251e1823ef6",
   "metadata": {},
   "outputs": [],
   "source": [
    "data = cursor.fetchall()\n",
    "df = pd.DataFrame(data, columns=columns)\n",
    "df.info()"
   ]
  },
  {
   "cell_type": "code",
   "execution_count": null,
   "id": "9f2219b5-f7f8-40a4-a31e-a3b1645a2248",
   "metadata": {},
   "outputs": [],
   "source": [
    "df = df.set_index('date')\n",
    "df.index = pd.to_datetime(df.index)\n",
    "df.tail(3)"
   ]
  },
  {
   "cell_type": "code",
   "execution_count": null,
   "id": "65ca8d44-0f3e-4fb7-9ef6-a1d761a332b5",
   "metadata": {},
   "outputs": [],
   "source": [
    "from psycopg2.extras import RealDictCursor\n",
    "cursor = conn.cursor(cursor_factory=RealDictCursor)\n",
    "cursor.execute(\"SELECT * FROM yen_tbl;\")\n",
    "data = cursor.fetchall()\n",
    "df = pd.DataFrame(data)"
   ]
  },
  {
   "cell_type": "code",
   "execution_count": null,
   "id": "46e87fa0-37d7-463d-bf56-ffcd71b13480",
   "metadata": {},
   "outputs": [],
   "source": [
    "cursor.close()\n",
    "conn.close()"
   ]
  },
  {
   "cell_type": "code",
   "execution_count": null,
   "id": "f9e326b4-0847-4b59-b9b3-d2efbc16e184",
   "metadata": {},
   "outputs": [],
   "source": []
  }
 ],
 "metadata": {
  "kernelspec": {
   "display_name": "Time Series",
   "language": "python",
   "name": "timesseries"
  },
  "language_info": {
   "codemirror_mode": {
    "name": "ipython",
    "version": 3
   },
   "file_extension": ".py",
   "mimetype": "text/x-python",
   "name": "python",
   "nbconvert_exporter": "python",
   "pygments_lexer": "ipython3",
   "version": "3.9.15"
  }
 },
 "nbformat": 4,
 "nbformat_minor": 5
}
